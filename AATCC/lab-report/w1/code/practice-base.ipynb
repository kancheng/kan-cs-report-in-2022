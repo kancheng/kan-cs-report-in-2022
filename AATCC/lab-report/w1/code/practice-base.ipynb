{
 "cells": [
  {
   "cell_type": "markdown",
   "id": "af5b5951",
   "metadata": {},
   "source": [
    "# 函數 Print"
   ]
  },
  {
   "cell_type": "code",
   "execution_count": 1,
   "id": "7307b773",
   "metadata": {},
   "outputs": [
    {
     "name": "stdout",
     "output_type": "stream",
     "text": [
      "Hello World!\n"
     ]
    }
   ],
   "source": [
    "print(\"Hello World!\")"
   ]
  },
  {
   "cell_type": "code",
   "execution_count": 2,
   "id": "544759ef",
   "metadata": {},
   "outputs": [
    {
     "name": "stdout",
     "output_type": "stream",
     "text": [
      "6\n"
     ]
    }
   ],
   "source": [
    "print(6)"
   ]
  },
  {
   "cell_type": "code",
   "execution_count": 3,
   "id": "48f7b070",
   "metadata": {},
   "outputs": [
    {
     "name": "stdout",
     "output_type": "stream",
     "text": [
      "['hello', 3, 4, 5]\n"
     ]
    }
   ],
   "source": [
    "print(['hello', 3, 4, 5])"
   ]
  },
  {
   "cell_type": "code",
   "execution_count": 4,
   "id": "d99cc56a",
   "metadata": {},
   "outputs": [
    {
     "name": "stdout",
     "output_type": "stream",
     "text": [
      "{'A': 1, 2: 'B'}\n"
     ]
    }
   ],
   "source": [
    "print({ 'A': 1, 2: 'B'})"
   ]
  },
  {
   "cell_type": "code",
   "execution_count": 5,
   "id": "dedd531d",
   "metadata": {},
   "outputs": [
    {
     "name": "stdout",
     "output_type": "stream",
     "text": [
      "1 1.0 1\n"
     ]
    }
   ],
   "source": [
    "print(6//4, 7.0//4, 9%4)"
   ]
  },
  {
   "cell_type": "markdown",
   "id": "22d58a18",
   "metadata": {},
   "source": [
    "# 內置原子數據類型\n",
    "\n",
    "## 1. int float\n",
    "## 2. 布爾類型"
   ]
  },
  {
   "cell_type": "markdown",
   "id": "3e4fb8f0",
   "metadata": {},
   "source": [
    "# 內置原子數據類型 int float\n",
    "```\n",
    "int float 標準運算 '+','-','/','*','%','//'\n",
    "```"
   ]
  },
  {
   "cell_type": "code",
   "execution_count": 6,
   "id": "0f702ee2",
   "metadata": {},
   "outputs": [
    {
     "name": "stdout",
     "output_type": "stream",
     "text": [
      "1 1.0 1 1.5\n"
     ]
    }
   ],
   "source": [
    "print(6//4, 7.0//4, 9%4, 6/4)"
   ]
  },
  {
   "cell_type": "code",
   "execution_count": 7,
   "id": "3a1303f2",
   "metadata": {},
   "outputs": [
    {
     "name": "stdout",
     "output_type": "stream",
     "text": [
      "9 6.0 12\n"
     ]
    }
   ],
   "source": [
    "print(4+5, 8.0-2, 3*4)"
   ]
  },
  {
   "cell_type": "markdown",
   "id": "7b084082",
   "metadata": {},
   "source": [
    "# 內置原子數據類型 布爾類型\n",
    "\n",
    "```\n",
    "標準運算 and or not\n",
    "```"
   ]
  },
  {
   "cell_type": "code",
   "execution_count": 8,
   "id": "6e7343f8",
   "metadata": {},
   "outputs": [
    {
     "data": {
      "text/plain": [
       "True"
      ]
     },
     "execution_count": 8,
     "metadata": {},
     "output_type": "execute_result"
    }
   ],
   "source": [
    "False or True"
   ]
  },
  {
   "cell_type": "code",
   "execution_count": 9,
   "id": "c14c8f20",
   "metadata": {},
   "outputs": [
    {
     "data": {
      "text/plain": [
       "False"
      ]
     },
     "execution_count": 9,
     "metadata": {},
     "output_type": "execute_result"
    }
   ],
   "source": [
    "not(False or True)"
   ]
  },
  {
   "cell_type": "code",
   "execution_count": 10,
   "id": "a63653c3",
   "metadata": {},
   "outputs": [
    {
     "data": {
      "text/plain": [
       "True"
      ]
     },
     "execution_count": 10,
     "metadata": {},
     "output_type": "execute_result"
    }
   ],
   "source": [
    "True and True"
   ]
  },
  {
   "cell_type": "markdown",
   "id": "d94cad89",
   "metadata": {},
   "source": [
    "# 比較運算符"
   ]
  },
  {
   "cell_type": "code",
   "execution_count": 11,
   "id": "549cef63",
   "metadata": {},
   "outputs": [
    {
     "name": "stdout",
     "output_type": "stream",
     "text": [
      "True\n"
     ]
    }
   ],
   "source": [
    "print(3>2)"
   ]
  },
  {
   "cell_type": "code",
   "execution_count": 12,
   "id": "1d09e3b2",
   "metadata": {},
   "outputs": [
    {
     "name": "stdout",
     "output_type": "stream",
     "text": [
      "True\n"
     ]
    }
   ],
   "source": [
    "print(4==4)"
   ]
  },
  {
   "cell_type": "code",
   "execution_count": 13,
   "id": "20eabfd7",
   "metadata": {},
   "outputs": [
    {
     "name": "stdout",
     "output_type": "stream",
     "text": [
      "False\n"
     ]
    }
   ],
   "source": [
    "print(2<=1)"
   ]
  },
  {
   "cell_type": "markdown",
   "id": "c9d036a0",
   "metadata": {},
   "source": [
    "# 賦值語句"
   ]
  },
  {
   "cell_type": "code",
   "execution_count": 14,
   "id": "6b0c453e",
   "metadata": {},
   "outputs": [],
   "source": [
    "theSum = 0"
   ]
  },
  {
   "cell_type": "code",
   "execution_count": 15,
   "id": "32df8ca5",
   "metadata": {},
   "outputs": [
    {
     "data": {
      "text/plain": [
       "0"
      ]
     },
     "execution_count": 15,
     "metadata": {},
     "output_type": "execute_result"
    }
   ],
   "source": [
    "theSum"
   ]
  },
  {
   "cell_type": "code",
   "execution_count": 16,
   "id": "2634e87e",
   "metadata": {},
   "outputs": [],
   "source": [
    "theSum = theSum + 1"
   ]
  },
  {
   "cell_type": "code",
   "execution_count": 17,
   "id": "59a7d763",
   "metadata": {},
   "outputs": [],
   "source": [
    "theSum = True"
   ]
  },
  {
   "cell_type": "code",
   "execution_count": 18,
   "id": "c82daabf",
   "metadata": {},
   "outputs": [
    {
     "data": {
      "text/plain": [
       "True"
      ]
     },
     "execution_count": 18,
     "metadata": {},
     "output_type": "execute_result"
    }
   ],
   "source": [
    "theSum"
   ]
  },
  {
   "cell_type": "markdown",
   "id": "14e80988",
   "metadata": {},
   "source": [
    "# 內置集合數據類型\n",
    "## 1. 列表\n",
    "## 2. 元組\n",
    "## 3. 字典\n",
    "## 4. 集合\n",
    "## 5. 字符串"
   ]
  },
  {
   "cell_type": "markdown",
   "id": "19bae4cd",
   "metadata": {},
   "source": [
    "# 內置集合數據類型 列表"
   ]
  },
  {
   "cell_type": "code",
   "execution_count": 19,
   "id": "afb4ac38",
   "metadata": {},
   "outputs": [
    {
     "data": {
      "text/plain": [
       "[1, 3, True, 6.5]"
      ]
     },
     "execution_count": 19,
     "metadata": {},
     "output_type": "execute_result"
    }
   ],
   "source": [
    "[1, 3, True, 6.5]"
   ]
  },
  {
   "cell_type": "code",
   "execution_count": 20,
   "id": "900e1028",
   "metadata": {},
   "outputs": [],
   "source": [
    "myList = [ 1, 3, True, 6.5]"
   ]
  },
  {
   "cell_type": "code",
   "execution_count": 21,
   "id": "7b6b3b43",
   "metadata": {},
   "outputs": [
    {
     "data": {
      "text/plain": [
       "[1, 3, True, 6.5]"
      ]
     },
     "execution_count": 21,
     "metadata": {},
     "output_type": "execute_result"
    }
   ],
   "source": [
    "myList # 列表是異構的"
   ]
  },
  {
   "cell_type": "code",
   "execution_count": 22,
   "id": "ac8c22f9",
   "metadata": {},
   "outputs": [
    {
     "name": "stdout",
     "output_type": "stream",
     "text": [
      "[[1, 2, 3, 4], [1, 2, 3, 4], [1, 2, 3, 4]]\n"
     ]
    }
   ],
   "source": [
    "myList = [ 1, 2, 3, 4]\n",
    "A = [myList] * 3\n",
    "print(A)"
   ]
  },
  {
   "cell_type": "code",
   "execution_count": 23,
   "id": "720ba874",
   "metadata": {},
   "outputs": [
    {
     "name": "stdout",
     "output_type": "stream",
     "text": [
      "[[1, 2, 45, 4], [1, 2, 45, 4], [1, 2, 45, 4]]\n"
     ]
    }
   ],
   "source": [
    "myList[2] = 45\n",
    "print(A)"
   ]
  },
  {
   "cell_type": "code",
   "execution_count": 24,
   "id": "22b1baec",
   "metadata": {},
   "outputs": [
    {
     "name": "stdout",
     "output_type": "stream",
     "text": [
      "False\n"
     ]
    }
   ],
   "source": [
    "print(3 in myList)"
   ]
  },
  {
   "cell_type": "code",
   "execution_count": 25,
   "id": "8caf5214",
   "metadata": {},
   "outputs": [
    {
     "name": "stdout",
     "output_type": "stream",
     "text": [
      "[1, 2, 45]\n"
     ]
    }
   ],
   "source": [
    "print(myList[0:3])"
   ]
  },
  {
   "cell_type": "code",
   "execution_count": 26,
   "id": "4cad2c97",
   "metadata": {},
   "outputs": [
    {
     "name": "stdout",
     "output_type": "stream",
     "text": [
      "[1, 2, 45, 4, 4, 5]\n"
     ]
    }
   ],
   "source": [
    "myList2 = [4, 5]\n",
    "print(myList + myList2)"
   ]
  },
  {
   "cell_type": "code",
   "execution_count": 27,
   "id": "cfd15a53",
   "metadata": {},
   "outputs": [
    {
     "name": "stdout",
     "output_type": "stream",
     "text": [
      "[1024, 3, True, 6.5, False]\n",
      "[1024, 3, 4.5, True, 6.5, False]\n",
      "False\n",
      "[1024, 3, 4.5, True, 6.5]\n",
      "3\n",
      "[1024, 4.5, True, 6.5]\n",
      "[1024, 4.5, 6.5]\n",
      "[4.5, 6.5, 1024]\n",
      "[1024, 6.5, 4.5]\n",
      "1\n",
      "2\n",
      "[1024, 4.5]\n"
     ]
    }
   ],
   "source": [
    "myList = [1024, 3, True, 6.5]\n",
    "myList.append(False)\n",
    "print(myList)\n",
    "myList.insert(2, 4.5)\n",
    "print(myList)\n",
    "print(myList.pop())\n",
    "print(myList)\n",
    "print(myList.pop(1))\n",
    "print(myList)\n",
    "myList.pop(2)\n",
    "print(myList)\n",
    "myList.sort()\n",
    "print(myList)\n",
    "myList.reverse()\n",
    "print(myList)\n",
    "print(myList.count(6.5))\n",
    "print(myList.index(4.5))\n",
    "myList.remove(6.5)\n",
    "print(myList)\n",
    "del myList[0]"
   ]
  },
  {
   "cell_type": "markdown",
   "id": "fe0ef6b5",
   "metadata": {},
   "source": [
    "# range 函數"
   ]
  },
  {
   "cell_type": "code",
   "execution_count": 28,
   "id": "83f10866",
   "metadata": {},
   "outputs": [
    {
     "data": {
      "text/plain": [
       "range(0, 10)"
      ]
     },
     "execution_count": 28,
     "metadata": {},
     "output_type": "execute_result"
    }
   ],
   "source": [
    "range(10)"
   ]
  },
  {
   "cell_type": "code",
   "execution_count": 29,
   "id": "4585de35",
   "metadata": {},
   "outputs": [
    {
     "data": {
      "text/plain": [
       "[0, 1, 2, 3, 4, 5, 6, 7, 8, 9]"
      ]
     },
     "execution_count": 29,
     "metadata": {},
     "output_type": "execute_result"
    }
   ],
   "source": [
    "list(range(10))"
   ]
  },
  {
   "cell_type": "code",
   "execution_count": 30,
   "id": "62625303",
   "metadata": {},
   "outputs": [
    {
     "data": {
      "text/plain": [
       "range(5, 10)"
      ]
     },
     "execution_count": 30,
     "metadata": {},
     "output_type": "execute_result"
    }
   ],
   "source": [
    "range( 5, 10)"
   ]
  },
  {
   "cell_type": "code",
   "execution_count": 31,
   "id": "ef5811a4",
   "metadata": {},
   "outputs": [
    {
     "data": {
      "text/plain": [
       "[5, 6, 7, 8, 9]"
      ]
     },
     "execution_count": 31,
     "metadata": {},
     "output_type": "execute_result"
    }
   ],
   "source": [
    "list(range( 5, 10))"
   ]
  },
  {
   "cell_type": "code",
   "execution_count": 32,
   "id": "e51da017",
   "metadata": {},
   "outputs": [
    {
     "data": {
      "text/plain": [
       "[5, 7, 9]"
      ]
     },
     "execution_count": 32,
     "metadata": {},
     "output_type": "execute_result"
    }
   ],
   "source": [
    "list(range( 5, 10, 2))"
   ]
  },
  {
   "cell_type": "code",
   "execution_count": 33,
   "id": "16420b00",
   "metadata": {},
   "outputs": [
    {
     "data": {
      "text/plain": [
       "[10, 9, 8, 7, 6, 5, 4, 3, 2]"
      ]
     },
     "execution_count": 33,
     "metadata": {},
     "output_type": "execute_result"
    }
   ],
   "source": [
    "list(range( 10, 1, -1))"
   ]
  },
  {
   "cell_type": "markdown",
   "id": "d46016fd",
   "metadata": {},
   "source": [
    "# 內置集合數據類型 字符串"
   ]
  },
  {
   "cell_type": "code",
   "execution_count": 34,
   "id": "d8574dd5",
   "metadata": {},
   "outputs": [
    {
     "data": {
      "text/plain": [
       "'David'"
      ]
     },
     "execution_count": 34,
     "metadata": {},
     "output_type": "execute_result"
    }
   ],
   "source": [
    "\"David\""
   ]
  },
  {
   "cell_type": "code",
   "execution_count": 35,
   "id": "4f2ad46c",
   "metadata": {},
   "outputs": [
    {
     "data": {
      "text/plain": [
       "'i'"
      ]
     },
     "execution_count": 35,
     "metadata": {},
     "output_type": "execute_result"
    }
   ],
   "source": [
    "myName = \"David\"\n",
    "myName[3]"
   ]
  },
  {
   "cell_type": "code",
   "execution_count": 36,
   "id": "31e3466e",
   "metadata": {},
   "outputs": [
    {
     "data": {
      "text/plain": [
       "'DavidDavid'"
      ]
     },
     "execution_count": 36,
     "metadata": {},
     "output_type": "execute_result"
    }
   ],
   "source": [
    "myName * 2"
   ]
  },
  {
   "cell_type": "code",
   "execution_count": 37,
   "id": "13893c5b",
   "metadata": {},
   "outputs": [
    {
     "data": {
      "text/plain": [
       "5"
      ]
     },
     "execution_count": 37,
     "metadata": {},
     "output_type": "execute_result"
    }
   ],
   "source": [
    "len(myName)"
   ]
  },
  {
   "cell_type": "code",
   "execution_count": 38,
   "id": "f64943a2",
   "metadata": {},
   "outputs": [
    {
     "data": {
      "text/plain": [
       "'David'"
      ]
     },
     "execution_count": 38,
     "metadata": {},
     "output_type": "execute_result"
    }
   ],
   "source": [
    "myName"
   ]
  },
  {
   "cell_type": "code",
   "execution_count": 39,
   "id": "b5ca3c34",
   "metadata": {},
   "outputs": [
    {
     "data": {
      "text/plain": [
       "'DAVID'"
      ]
     },
     "execution_count": 39,
     "metadata": {},
     "output_type": "execute_result"
    }
   ],
   "source": [
    "myName.upper()"
   ]
  },
  {
   "cell_type": "code",
   "execution_count": 40,
   "id": "7f9aa824",
   "metadata": {},
   "outputs": [
    {
     "data": {
      "text/plain": [
       "'  David   '"
      ]
     },
     "execution_count": 40,
     "metadata": {},
     "output_type": "execute_result"
    }
   ],
   "source": [
    "myName.center(10)"
   ]
  },
  {
   "cell_type": "code",
   "execution_count": 41,
   "id": "b19c2e90",
   "metadata": {},
   "outputs": [
    {
     "data": {
      "text/plain": [
       "2"
      ]
     },
     "execution_count": 41,
     "metadata": {},
     "output_type": "execute_result"
    }
   ],
   "source": [
    "myName.find('v')"
   ]
  },
  {
   "cell_type": "code",
   "execution_count": 42,
   "id": "02cd3853",
   "metadata": {},
   "outputs": [
    {
     "data": {
      "text/plain": [
       "['Da', 'id']"
      ]
     },
     "execution_count": 42,
     "metadata": {},
     "output_type": "execute_result"
    }
   ],
   "source": [
    "myName.split('v')"
   ]
  },
  {
   "cell_type": "code",
   "execution_count": 43,
   "id": "dbff5695",
   "metadata": {},
   "outputs": [
    {
     "data": {
      "text/plain": [
       "[1, 3, True, 6.5]"
      ]
     },
     "execution_count": 43,
     "metadata": {},
     "output_type": "execute_result"
    }
   ],
   "source": [
    "myList = [ 1, 3, True, 6.5]\n",
    "myList"
   ]
  },
  {
   "cell_type": "code",
   "execution_count": 44,
   "id": "b5ceb201",
   "metadata": {},
   "outputs": [
    {
     "data": {
      "text/plain": [
       "[1024, 3, True, 6.5]"
      ]
     },
     "execution_count": 44,
     "metadata": {},
     "output_type": "execute_result"
    }
   ],
   "source": [
    "myList[0] = 2 ** 10\n",
    "myList"
   ]
  },
  {
   "cell_type": "code",
   "execution_count": 45,
   "id": "70ae5709",
   "metadata": {},
   "outputs": [
    {
     "data": {
      "text/plain": [
       "'David'"
      ]
     },
     "execution_count": 45,
     "metadata": {},
     "output_type": "execute_result"
    }
   ],
   "source": [
    "myName"
   ]
  },
  {
   "cell_type": "code",
   "execution_count": 46,
   "id": "c7b492d6",
   "metadata": {},
   "outputs": [
    {
     "name": "stdout",
     "output_type": "stream",
     "text": [
      "TypeError(\"unsupported operand type(s) for +: 'int' and 'str'\")\n"
     ]
    }
   ],
   "source": [
    "dictionary = {\n",
    "    \"hello\": \"world\",\n",
    "}\n",
    "number = 25\n",
    "\n",
    "try:\n",
    "    number = number + dictionary[\"hello\"]\n",
    "    print(number)\n",
    "except Exception as e: \n",
    "    print(repr(e))\n",
    "    \n",
    "# 列印異常"
   ]
  },
  {
   "cell_type": "code",
   "execution_count": 47,
   "id": "5d54c804",
   "metadata": {},
   "outputs": [
    {
     "name": "stdout",
     "output_type": "stream",
     "text": [
      "TypeError(\"'str' object does not support item assignment\")\n"
     ]
    }
   ],
   "source": [
    "try:\n",
    "    myName[0]='X'\n",
    "    print(myName)\n",
    "except Exception as e: \n",
    "    print(repr(e))\n",
    "    \n",
    "# 列印異常"
   ]
  },
  {
   "cell_type": "markdown",
   "id": "977326c0",
   "metadata": {},
   "source": [
    "# 內置集合數據類型 元組"
   ]
  },
  {
   "cell_type": "code",
   "execution_count": 48,
   "id": "25f29aad",
   "metadata": {},
   "outputs": [
    {
     "data": {
      "text/plain": [
       "(2, True, 4.96)"
      ]
     },
     "execution_count": 48,
     "metadata": {},
     "output_type": "execute_result"
    }
   ],
   "source": [
    "myTuple = (2, True, 4.96)\n",
    "myTuple"
   ]
  },
  {
   "cell_type": "code",
   "execution_count": 49,
   "id": "159464e5",
   "metadata": {},
   "outputs": [
    {
     "data": {
      "text/plain": [
       "3"
      ]
     },
     "execution_count": 49,
     "metadata": {},
     "output_type": "execute_result"
    }
   ],
   "source": [
    "len(myTuple)"
   ]
  },
  {
   "cell_type": "code",
   "execution_count": 50,
   "id": "c4256ef1",
   "metadata": {},
   "outputs": [
    {
     "data": {
      "text/plain": [
       "2"
      ]
     },
     "execution_count": 50,
     "metadata": {},
     "output_type": "execute_result"
    }
   ],
   "source": [
    "myTuple[0]"
   ]
  },
  {
   "cell_type": "code",
   "execution_count": 51,
   "id": "ecc1fd57",
   "metadata": {},
   "outputs": [
    {
     "data": {
      "text/plain": [
       "(2, True, 4.96, 2, True, 4.96, 2, True, 4.96)"
      ]
     },
     "execution_count": 51,
     "metadata": {},
     "output_type": "execute_result"
    }
   ],
   "source": [
    "myTuple * 3"
   ]
  },
  {
   "cell_type": "code",
   "execution_count": 52,
   "id": "3ca6439e",
   "metadata": {},
   "outputs": [
    {
     "data": {
      "text/plain": [
       "(2, True)"
      ]
     },
     "execution_count": 52,
     "metadata": {},
     "output_type": "execute_result"
    }
   ],
   "source": [
    "myTuple[0:2]"
   ]
  },
  {
   "cell_type": "code",
   "execution_count": 53,
   "id": "d70e8a35",
   "metadata": {},
   "outputs": [
    {
     "data": {
      "text/plain": [
       "(2, True)"
      ]
     },
     "execution_count": 53,
     "metadata": {},
     "output_type": "execute_result"
    }
   ],
   "source": [
    "myTuple[0:2]"
   ]
  },
  {
   "cell_type": "code",
   "execution_count": 54,
   "id": "4375e2df",
   "metadata": {},
   "outputs": [
    {
     "name": "stdout",
     "output_type": "stream",
     "text": [
      "TypeError(\"'tuple' object does not support item assignment\")\n"
     ]
    }
   ],
   "source": [
    "try:\n",
    "    myTuple[1]=False\n",
    "    print(myTuple)\n",
    "except Exception as e: \n",
    "    print(repr(e))\n",
    "    \n",
    "# 列印異常"
   ]
  },
  {
   "cell_type": "markdown",
   "id": "6e898d84",
   "metadata": {},
   "source": [
    "# 內置集合數據類型 集合"
   ]
  },
  {
   "cell_type": "code",
   "execution_count": 55,
   "id": "a25c4030",
   "metadata": {},
   "outputs": [
    {
     "data": {
      "text/plain": [
       "{3, 4.5, 6, False, 'cat'}"
      ]
     },
     "execution_count": 55,
     "metadata": {},
     "output_type": "execute_result"
    }
   ],
   "source": [
    "{ 3, 6, \"cat\", 4.5, False}"
   ]
  },
  {
   "cell_type": "code",
   "execution_count": 56,
   "id": "055d717c",
   "metadata": {},
   "outputs": [
    {
     "data": {
      "text/plain": [
       "{3, 4.5, 6, False, 'cat'}"
      ]
     },
     "execution_count": 56,
     "metadata": {},
     "output_type": "execute_result"
    }
   ],
   "source": [
    "mySet = { 3, 6, \"cat\", 4.5, False}\n",
    "mySet"
   ]
  },
  {
   "cell_type": "code",
   "execution_count": 57,
   "id": "33d22c53",
   "metadata": {},
   "outputs": [
    {
     "data": {
      "text/plain": [
       "5"
      ]
     },
     "execution_count": 57,
     "metadata": {},
     "output_type": "execute_result"
    }
   ],
   "source": [
    "len(mySet)"
   ]
  },
  {
   "cell_type": "code",
   "execution_count": 58,
   "id": "9e0e92a4",
   "metadata": {},
   "outputs": [
    {
     "data": {
      "text/plain": [
       "True"
      ]
     },
     "execution_count": 58,
     "metadata": {},
     "output_type": "execute_result"
    }
   ],
   "source": [
    "False in mySet"
   ]
  },
  {
   "cell_type": "code",
   "execution_count": 59,
   "id": "fcff2390",
   "metadata": {},
   "outputs": [
    {
     "data": {
      "text/plain": [
       "False"
      ]
     },
     "execution_count": 59,
     "metadata": {},
     "output_type": "execute_result"
    }
   ],
   "source": [
    "\"dog\" in mySet"
   ]
  },
  {
   "cell_type": "markdown",
   "id": "b9b5cd40",
   "metadata": {},
   "source": [
    "# 內置集合數據類型 字典\n"
   ]
  },
  {
   "cell_type": "code",
   "execution_count": 60,
   "id": "360161cc",
   "metadata": {},
   "outputs": [
    {
     "data": {
      "text/plain": [
       "{'Heilongjiang': 'Harbin', 'Guangdong': 'Guangzhou'}"
      ]
     },
     "execution_count": 60,
     "metadata": {},
     "output_type": "execute_result"
    }
   ],
   "source": [
    "capitals = {'Heilongjiang':'Harbin','Guangdong':'Guangzhou'}\n",
    "capitals"
   ]
  },
  {
   "cell_type": "code",
   "execution_count": 61,
   "id": "b0d60a27",
   "metadata": {},
   "outputs": [
    {
     "name": "stdout",
     "output_type": "stream",
     "text": [
      "{'Heilongjiang': 'Harbin', 'Guangdong': 'Guangzhou', 'Hunan': 'Changsha'}\n"
     ]
    }
   ],
   "source": [
    "capitals['Hunan'] = 'Changsha'\n",
    "print(capitals)"
   ]
  },
  {
   "cell_type": "code",
   "execution_count": 62,
   "id": "18364445",
   "metadata": {},
   "outputs": [
    {
     "name": "stdout",
     "output_type": "stream",
     "text": [
      "3\n"
     ]
    }
   ],
   "source": [
    "print(len(capitals))"
   ]
  },
  {
   "cell_type": "code",
   "execution_count": 63,
   "id": "33e7d506",
   "metadata": {},
   "outputs": [
    {
     "name": "stdout",
     "output_type": "stream",
     "text": [
      "Harbin  is the capital of  Heilongjiang\n",
      "Guangzhou  is the capital of  Guangdong\n",
      "Changsha  is the capital of  Hunan\n"
     ]
    }
   ],
   "source": [
    "for k in capitals:\n",
    "    print(capitals[k], \" is the capital of \", k)"
   ]
  },
  {
   "cell_type": "code",
   "execution_count": 64,
   "id": "6b01a0bb",
   "metadata": {},
   "outputs": [
    {
     "data": {
      "text/plain": [
       "{'david': 1410, 'brad': 1137}"
      ]
     },
     "execution_count": 64,
     "metadata": {},
     "output_type": "execute_result"
    }
   ],
   "source": [
    "phoneext = {'david': 1410, 'brad': 1137}\n",
    "phoneext"
   ]
  },
  {
   "cell_type": "code",
   "execution_count": 65,
   "id": "47aa5dc5",
   "metadata": {},
   "outputs": [
    {
     "data": {
      "text/plain": [
       "dict_keys(['david', 'brad'])"
      ]
     },
     "execution_count": 65,
     "metadata": {},
     "output_type": "execute_result"
    }
   ],
   "source": [
    "phoneext.keys()"
   ]
  },
  {
   "cell_type": "code",
   "execution_count": 66,
   "id": "5802e236",
   "metadata": {},
   "outputs": [
    {
     "data": {
      "text/plain": [
       "['david', 'brad']"
      ]
     },
     "execution_count": 66,
     "metadata": {},
     "output_type": "execute_result"
    }
   ],
   "source": [
    "list(phoneext.keys())"
   ]
  },
  {
   "cell_type": "code",
   "execution_count": 67,
   "id": "1e015860",
   "metadata": {},
   "outputs": [
    {
     "data": {
      "text/plain": [
       "dict_values([1410, 1137])"
      ]
     },
     "execution_count": 67,
     "metadata": {},
     "output_type": "execute_result"
    }
   ],
   "source": [
    "phoneext.values()"
   ]
  },
  {
   "cell_type": "code",
   "execution_count": 68,
   "id": "b23f6639",
   "metadata": {},
   "outputs": [
    {
     "data": {
      "text/plain": [
       "[1410, 1137]"
      ]
     },
     "execution_count": 68,
     "metadata": {},
     "output_type": "execute_result"
    }
   ],
   "source": [
    "list(phoneext.values())"
   ]
  },
  {
   "cell_type": "code",
   "execution_count": 69,
   "id": "e48bccc3",
   "metadata": {},
   "outputs": [
    {
     "data": {
      "text/plain": [
       "dict_items([('david', 1410), ('brad', 1137)])"
      ]
     },
     "execution_count": 69,
     "metadata": {},
     "output_type": "execute_result"
    }
   ],
   "source": [
    "phoneext.items()"
   ]
  },
  {
   "cell_type": "code",
   "execution_count": 70,
   "id": "ca4d87f3",
   "metadata": {},
   "outputs": [],
   "source": [
    "phoneext.get(\"kent\")"
   ]
  },
  {
   "cell_type": "code",
   "execution_count": 71,
   "id": "a0c343d7",
   "metadata": {},
   "outputs": [
    {
     "name": "stdout",
     "output_type": "stream",
     "text": [
      "TypeError('get expected at most 2 arguments, got 3')\n"
     ]
    }
   ],
   "source": [
    "try:\n",
    "    phoneext.get(\"kent\", \"NO ENTRY\", 'NO ENTRY')\n",
    "    print(phoneext)\n",
    "except Exception as e: \n",
    "    print(repr(e))"
   ]
  },
  {
   "cell_type": "code",
   "execution_count": null,
   "id": "96b9c72a",
   "metadata": {},
   "outputs": [],
   "source": []
  },
  {
   "cell_type": "code",
   "execution_count": null,
   "id": "3db1aedc",
   "metadata": {},
   "outputs": [],
   "source": []
  }
 ],
 "metadata": {
  "kernelspec": {
   "display_name": "Python 3",
   "language": "python",
   "name": "python3"
  },
  "language_info": {
   "codemirror_mode": {
    "name": "ipython",
    "version": 3
   },
   "file_extension": ".py",
   "mimetype": "text/x-python",
   "name": "python",
   "nbconvert_exporter": "python",
   "pygments_lexer": "ipython3",
   "version": "3.8.8"
  }
 },
 "nbformat": 4,
 "nbformat_minor": 5
}
