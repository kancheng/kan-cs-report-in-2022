{
 "cells": [
  {
   "cell_type": "markdown",
   "id": "97779cd1",
   "metadata": {},
   "source": [
    "# LeetCode\n",
    "\n",
    "## Link\n",
    "\n",
    "1. https://leetcode.com/\n",
    "\n",
    "2. https://leetcode-cn.com/\n",
    "\n"
   ]
  },
  {
   "cell_type": "markdown",
   "id": "ad1f285e",
   "metadata": {},
   "source": [
    "# Leet Code 1. Two Sum 兩數之和"
   ]
  },
  {
   "cell_type": "markdown",
   "id": "afdf8cb7",
   "metadata": {},
   "source": [
    "Given an array of integers nums and an integer target, return indices of the two numbers such that they add up to target.\n",
    "\n",
    "You may assume that each input would have exactly one solution, and you may not use the same element twice.\n",
    "\n",
    "You can return the answer in any order.\n",
    "\n",
    "给定一个整数数组 nums 和一个整数目标值 target，请你在该数组中找出 和为目标值 target  的那 两个 整数，并返回它们的数组下标。\n",
    "\n",
    "你可以假设每种输入只会对应一个答案。但是，数组中同一个元素在答案里不能重复出现。\n",
    "\n",
    "你可以按任意顺序返回答案。\n",
    "\n",
    "Example 1:\n",
    "\n",
    "```\n",
    "Input: nums = [2,7,11,15], target = 9\n",
    "Output: [0,1]\n",
    "Explanation: Because nums[0] + nums[1] == 9, we return [0, 1].\n",
    "```\n",
    "\n",
    "Example 2:\n",
    "\n",
    "```\n",
    "Input: nums = [3,2,4], target = 6\n",
    "Output: [1,2]\n",
    "```\n",
    "\n",
    "Example 3:\n",
    "\n",
    "```\n",
    "Input: nums = [3,3], target = 6\n",
    "Output: [0,1]\n",
    "```"
   ]
  },
  {
   "cell_type": "markdown",
   "id": "c4599611",
   "metadata": {},
   "source": [
    "# 第一種寫法"
   ]
  },
  {
   "cell_type": "code",
   "execution_count": 1,
   "id": "d5bced46",
   "metadata": {},
   "outputs": [
    {
     "name": "stdout",
     "output_type": "stream",
     "text": [
      "[0, 1]\n"
     ]
    }
   ],
   "source": [
    "class Solution(object):\n",
    "   def twoSum(self, nums, target):\n",
    "      \"\"\"\n",
    "      :type nums: List[int]\n",
    "      :type target: int\n",
    "      :rtype: List[int]\n",
    "      \"\"\"\n",
    "      required = {}\n",
    "      for i in range(len(nums)):\n",
    "         if target - nums[i] in required:\n",
    "            return [required[target - nums[i]],i]\n",
    "         else:\n",
    "            required[nums[i]]=i\n",
    "input_list = [ 2, 7, 11, 15]\n",
    "target = 9\n",
    "ob1 = Solution()\n",
    "print(ob1.twoSum(input_list, target))"
   ]
  },
  {
   "cell_type": "markdown",
   "id": "b61f6193",
   "metadata": {},
   "source": [
    "# 第一種寫法的結果"
   ]
  },
  {
   "cell_type": "markdown",
   "id": "7db4aaf5",
   "metadata": {},
   "source": [
    "# Success\n",
    "\n",
    "## Details \n",
    "\n",
    "Runtime: 139 ms, faster than 38.38% of Python3 online submissions for Two Sum.\n",
    "\n",
    "Memory Usage: 15.2 MB, less than 41.73% of Python3 online submissions for Two Sum."
   ]
  },
  {
   "cell_type": "markdown",
   "id": "3a213a76",
   "metadata": {},
   "source": [
    "# 第二種寫法 - 課堂第一個範例"
   ]
  },
  {
   "cell_type": "code",
   "execution_count": 2,
   "id": "bc98d71d",
   "metadata": {},
   "outputs": [
    {
     "name": "stdout",
     "output_type": "stream",
     "text": [
      "[0, 1]\n"
     ]
    }
   ],
   "source": [
    "class Solution(object):\n",
    "   def twoSum(self, nums, target):\n",
    "      \"\"\"\n",
    "      :type nums: List[int]\n",
    "      :type target: int\n",
    "      :rtype: List[int]\n",
    "      \"\"\"\n",
    "      for i in range(len(nums)):\n",
    "         tmp = nums[i]\n",
    "         remain = nums[i+1:]\n",
    "         if target - tmp in remain:\n",
    "                return[i, remain.index(target - tmp)+ i + 1]\n",
    "input_list = [ 2, 7, 11, 15]\n",
    "target = 9\n",
    "ob1 = Solution()\n",
    "print(ob1.twoSum(input_list, target))"
   ]
  },
  {
   "cell_type": "markdown",
   "id": "59757a76",
   "metadata": {},
   "source": [
    "# 第二種寫法的結果"
   ]
  },
  {
   "cell_type": "markdown",
   "id": "20b916f3",
   "metadata": {},
   "source": [
    "# Success\n",
    "\n",
    "## Details \n",
    "\n",
    "Runtime: 707 ms, faster than 35.03% of Python3 online submissions for Two Sum.\n",
    "\n",
    "Memory Usage: 14.9 MB, less than 73.00% of Python3 online submissions for Two Sum."
   ]
  },
  {
   "cell_type": "markdown",
   "id": "6096e8f8",
   "metadata": {},
   "source": [
    "# 第三種寫法 - 課堂第二個範例"
   ]
  },
  {
   "cell_type": "code",
   "execution_count": 3,
   "id": "1844fb76",
   "metadata": {},
   "outputs": [
    {
     "name": "stdout",
     "output_type": "stream",
     "text": [
      "[0, 1]\n"
     ]
    }
   ],
   "source": [
    "class Solution(object):\n",
    "    def twoSum(self, nums, target):\n",
    "        \"\"\"\n",
    "        :type nums: List[int]\n",
    "        :type target: int\n",
    "        :rtype: List[int]\n",
    "        \"\"\"\n",
    "        dict = {}\n",
    "        for i in range(len(nums)):\n",
    "            if target - nums[i] not in dict:\n",
    "                dict[nums[i]] = i\n",
    "            else:\n",
    "                return [dict[target - nums[i]], i]\n",
    "input_list = [ 2, 7, 11, 15]\n",
    "target = 9\n",
    "ob1 = Solution()\n",
    "print(ob1.twoSum(input_list, target))"
   ]
  },
  {
   "cell_type": "markdown",
   "id": "c07d7861",
   "metadata": {},
   "source": [
    "# 第三種寫法的結果"
   ]
  },
  {
   "cell_type": "markdown",
   "id": "f8812ef8",
   "metadata": {},
   "source": [
    "# Success\n",
    "\n",
    "## Details \n",
    "\n",
    "Runtime: 64 ms, faster than 86.00% of Python3 online submissions for Two Sum.\n",
    "\n",
    "Memory Usage: 15.2 MB, less than 57.63% of Python3 online submissions for Two Sum."
   ]
  },
  {
   "cell_type": "markdown",
   "id": "51e166f8",
   "metadata": {},
   "source": [
    "# Two Sum 兩數之和思路總結"
   ]
  },
  {
   "cell_type": "markdown",
   "id": "cf3535ad",
   "metadata": {},
   "source": [
    "## 課堂的第一種範例\n",
    "\n",
    "用 For 將每個元素讀過一遍，然後將其逐一取出來一個個判斷，若目標為 9，找到元素 2 ，就會找 7，若找到元素 7 ，就會找 2。效率上沒有很理想。\n",
    "\n",
    "\n",
    "## 課堂的第二種範例\n",
    "\n",
    "課堂的第二中範例與該題的第一個範例原理類似。運用 Python 的字典可以直接去找。用 For 去找，剩下用 IF 來判斷該值有沒有在字典裡面。相對與第一種課堂範例來的理想。"
   ]
  },
  {
   "cell_type": "markdown",
   "id": "37bb681c",
   "metadata": {},
   "source": [
    "# Leet Code 69. Sqrt(x) x 的平方根 "
   ]
  },
  {
   "cell_type": "markdown",
   "id": "4be2cfe1",
   "metadata": {},
   "source": [
    "Given a non-negative integer x, compute and return the square root of x.\n",
    "\n",
    "Since the return type is an integer, the decimal digits are truncated, and only the integer part of the result is returned.\n",
    "\n",
    "Note: You are not allowed to use any built-in exponent function or operator, such as pow(x, 0.5) or x ** 0.5.\n",
    "\n",
    "给你一个非负整数 x ，计算并返回 x 的 算术平方根 。\n",
    "\n",
    "由于返回类型是整数，结果只保留 整数部分 ，小数部分将被 舍去 。\n",
    "\n",
    "注意：不允许使用任何内置指数函数和算符，例如 pow(x, 0.5) 或者 x ** 0.5 。\n",
    "\n",
    "Example 1:\n",
    "\n",
    "```\n",
    "Input: x = 4\n",
    "Output: 2\n",
    "```\n",
    "\n",
    "Example 2:\n",
    "\n",
    "```\n",
    "Input: x = 8\n",
    "Output: 2\n",
    "Explanation: The square root of 8 is 2.82842..., and since the decimal part is truncated, 2 is returned.\n",
    "```"
   ]
  },
  {
   "cell_type": "code",
   "execution_count": 4,
   "id": "7828ddd0",
   "metadata": {},
   "outputs": [
    {
     "name": "stdout",
     "output_type": "stream",
     "text": [
      "2\n",
      "3\n"
     ]
    }
   ],
   "source": [
    "class Solution:\n",
    "    def mySqrt(self, x):\n",
    "        \"\"\"\n",
    "        :type x: int\n",
    "        :rtype: int\n",
    "        \"\"\"\n",
    "        if x < 2:\n",
    "            return x\n",
    "        left, right = 1, x // 2\n",
    "        while left <= right:\n",
    "            mid = left + (right - left) // 2\n",
    "            if mid > x / mid:\n",
    "                right = mid - 1\n",
    "            else:\n",
    "                left = mid + 1\n",
    "        return left - 1\n",
    "x1 = 4\n",
    "x2 = 9\n",
    "ob1 = Solution()\n",
    "print(ob1.mySqrt(x1))\n",
    "print(ob1.mySqrt(x2))"
   ]
  },
  {
   "cell_type": "markdown",
   "id": "aff5050f",
   "metadata": {},
   "source": [
    "# 結果"
   ]
  },
  {
   "cell_type": "markdown",
   "id": "025c0bbf",
   "metadata": {},
   "source": [
    "# Success\n",
    "\n",
    "## Details \n",
    "\n",
    "Runtime: 60 ms, faster than 47.79% of Python3 online submissions for Sqrt(x).\n",
    "\n",
    "Memory Usage: 13.9 MB, less than 81.69% of Python3 online submissions for Sqrt(x)."
   ]
  },
  {
   "cell_type": "markdown",
   "id": "66fe7152",
   "metadata": {},
   "source": [
    "# Sqrt(x) x 的平方根 的思路總結"
   ]
  },
  {
   "cell_type": "markdown",
   "id": "ab79f22b",
   "metadata": {},
   "source": [
    "二分查找，分成左右區間。"
   ]
  },
  {
   "cell_type": "markdown",
   "id": "2dd2dee0",
   "metadata": {},
   "source": [
    "# Leet Code 70. Climbing Stairs 爬楼梯"
   ]
  },
  {
   "cell_type": "markdown",
   "id": "5c698632",
   "metadata": {},
   "source": [
    "You are climbing a staircase. It takes n steps to reach the top.\n",
    "\n",
    "Each time you can either climb 1 or 2 steps. In how many distinct ways can you climb to the top?\n",
    "\n",
    "假设你正在爬楼梯。需要 n 阶你才能到达楼顶。\n",
    "\n",
    "每次你可以爬 1 或 2 个台阶。你有多少种不同的方法可以爬到楼顶呢？\n",
    "\n",
    "Example 1:\n",
    "\n",
    "```\n",
    "Input: n = 2\n",
    "Output: 2\n",
    "Explanation: There are two ways to climb to the top.\n",
    "1. 1 step + 1 step\n",
    "2. 2 steps\n",
    "```\n",
    "\n",
    "Example 2:\n",
    "\n",
    "```\n",
    "Input: n = 3\n",
    "Output: 3\n",
    "Explanation: There are three ways to climb to the top.\n",
    "1. 1 step + 1 step + 1 step\n",
    "2. 1 step + 2 steps\n",
    "3. 2 steps + 1 step\n",
    "```"
   ]
  },
  {
   "cell_type": "code",
   "execution_count": 5,
   "id": "3c926d07",
   "metadata": {},
   "outputs": [
    {
     "name": "stdout",
     "output_type": "stream",
     "text": [
      "2\n",
      "3\n"
     ]
    }
   ],
   "source": [
    "class Solution:\n",
    "    def climbStairs(self, n):\n",
    "        \"\"\"\n",
    "        :type n: int\n",
    "        :rtype: int\n",
    "        \"\"\"\n",
    "        prev, current = 0, 1\n",
    "        for i in range(n):\n",
    "            prev, current = current, prev + current\n",
    "        return current\n",
    "x1 = 2\n",
    "x2 = 3\n",
    "ob1 = Solution()\n",
    "print(ob1.climbStairs(x1))\n",
    "print(ob1.climbStairs(x2))"
   ]
  },
  {
   "cell_type": "markdown",
   "id": "cebe9145",
   "metadata": {},
   "source": [
    "# 結果"
   ]
  },
  {
   "cell_type": "markdown",
   "id": "e4787361",
   "metadata": {},
   "source": [
    "# Success\n",
    "\n",
    "## Details \n",
    "\n",
    "Runtime: 46 ms, faster than 40.45% of Python3 online submissions for Climbing Stairs.\n",
    "\n",
    "Memory Usage: 13.8 MB, less than 82.27% of Python3 online submissions for Climbing Stairs."
   ]
  },
  {
   "cell_type": "markdown",
   "id": "ac8b251b",
   "metadata": {},
   "source": [
    "# Climbing Stairs 爬楼梯的思路總結"
   ]
  },
  {
   "cell_type": "markdown",
   "id": "f866cda5",
   "metadata": {},
   "source": [
    "動態規劃，遞迴公式 $f(n-1) + f(n-2)$ ，其結果就是費氏數列。"
   ]
  },
  {
   "cell_type": "code",
   "execution_count": null,
   "id": "0285decb",
   "metadata": {},
   "outputs": [],
   "source": []
  }
 ],
 "metadata": {
  "kernelspec": {
   "display_name": "Python 3",
   "language": "python",
   "name": "python3"
  },
  "language_info": {
   "codemirror_mode": {
    "name": "ipython",
    "version": 3
   },
   "file_extension": ".py",
   "mimetype": "text/x-python",
   "name": "python",
   "nbconvert_exporter": "python",
   "pygments_lexer": "ipython3",
   "version": "3.8.8"
  }
 },
 "nbformat": 4,
 "nbformat_minor": 5
}
